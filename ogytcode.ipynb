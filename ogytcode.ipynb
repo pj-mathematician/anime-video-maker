{
  "nbformat": 4,
  "nbformat_minor": 0,
  "metadata": {
    "colab": {
      "name": "ogytcode",
      "provenance": [],
      "collapsed_sections": [],
      "include_colab_link": true
    },
    "kernelspec": {
      "display_name": "Python 3",
      "name": "python3"
    }
  },
  "cells": [
    {
      "cell_type": "markdown",
      "metadata": {
        "id": "view-in-github",
        "colab_type": "text"
      },
      "source": [
        "<a href=\"https://colab.research.google.com/github/pj-mathematician/anime-video-maker/blob/main/ogytcode.ipynb\" target=\"_parent\"><img src=\"https://colab.research.google.com/assets/colab-badge.svg\" alt=\"Open In Colab\"/></a>"
      ]
    },
    {
      "cell_type": "code",
      "metadata": {
        "id": "BRMoAJpkJNf2"
      },
      "source": [
        "from google.colab import drive\n",
        "drive.mount('/content/drive')"
      ],
      "execution_count": null,
      "outputs": []
    },
    {
      "cell_type": "code",
      "metadata": {
        "id": "DJVKmfcbaYHw"
      },
      "source": [
        "def ins(starting,ending,step):\n",
        "\tl=[]\n",
        "\tfor i in range((ending-starting)//step):\n",
        "\t\tm=[]\n",
        "\t\tfor j in range(starting+(i*step),starting+(i*step)+step):\n",
        "\t\t\tm.append(j)\n",
        "\t\tl.append(m)\n",
        "\t#print(l)\n",
        "\treturn l\n",
        "def eplist(start,end):\n",
        "\tl=[]\n",
        "\tfor i in range(start,end+1):\n",
        "\t\tl.append(i)\n",
        "\tprint(l)\n",
        "\treturn l\n",
        "ins(361,368,7)"
      ],
      "execution_count": null,
      "outputs": []
    },
    {
      "cell_type": "code",
      "metadata": {
        "id": "kYy_stBT5r7a"
      },
      "source": [
        "%%capture\n",
        "!pip install kurby\n",
        "!pip install --upgrade moviepy"
      ],
      "execution_count": null,
      "outputs": []
    },
    {
      "cell_type": "code",
      "metadata": {
        "id": "ab9cW9Ck53Zd"
      },
      "source": [
        "!kurby download --nfrom 241 --nto 250 gintama"
      ],
      "execution_count": null,
      "outputs": []
    },
    {
      "cell_type": "code",
      "metadata": {
        "id": "V7O0AH6azBUV"
      },
      "source": [
        "arcs={\"courtesan\":(257,261),\"beamsword\":(262,264),\"dekoboko(gender-bender)\":(275,277),\"shinigami\":(279,281),\"soulswitch\":(287,289),\"kaientai\":(290,291),\"afro\":(294,295),\"sa\":(300,307),\"fs\":(308,316),\"rdb\":(317,328),\"hdz48\":(337,339),\"ss1\":(342,353),\"ss2\":(354,367)}\n",
        "arcs2={'umibozu':(40,42),'benizakura':(58,61),'yagyu':(76,81),'mitsuba':(86,87),'shinsengumi':(101,105),'ghostryokan':(131,134),'yoshiwara':(139,146),'otsu':(157,163),'tamaq':(167,170),'red-spider':(177,181),'diviner':(195,199),'santa':(200,201)}"
      ],
      "execution_count": null,
      "outputs": []
    },
    {
      "cell_type": "code",
      "metadata": {
        "id": "li0AlMfCfJNg"
      },
      "source": [
        "%%capture\n",
        "!apt install aria2\n",
        "!pip3 install anime-downloader\n",
        "!pip install --upgrade moviepy"
      ],
      "execution_count": null,
      "outputs": []
    },
    {
      "cell_type": "code",
      "metadata": {
        "id": "ziCwban78bJh"
      },
      "source": [
        "!anime dl --help"
      ],
      "execution_count": null,
      "outputs": []
    },
    {
      "cell_type": "code",
      "metadata": {
        "id": "2Uq-sAld6lvQ"
      },
      "source": [
        "%%capture\n",
        "for i in arcs:\n",
        "  ep1=arcs[i][0]\n",
        "  ep2=arcs[i][1]\n",
        "  !anime dl 'gintama' --episodes '$ep1:$ep2' -c 1"
      ],
      "execution_count": null,
      "outputs": []
    },
    {
      "cell_type": "code",
      "metadata": {
        "id": "Gcb4F1W1cuMT"
      },
      "source": [
        "!anime dl 'gintama' -c 1 --episodes 250:305"
      ],
      "execution_count": null,
      "outputs": []
    },
    {
      "cell_type": "code",
      "metadata": {
        "id": "BFpXN7yZuguf"
      },
      "source": [
        "!anime dl 'gintama' -p animeout -c 7 -e 60"
      ],
      "execution_count": null,
      "outputs": []
    },
    {
      "cell_type": "code",
      "metadata": {
        "id": "En95zCgIfo_F"
      },
      "source": [
        "%%capture\n",
        "!echo 'start'\n",
        "!anime dl 'gintama' --episodes 141:200 -c 1\n",
        "!echo 'done'"
      ],
      "execution_count": null,
      "outputs": []
    },
    {
      "cell_type": "code",
      "metadata": {
        "colab": {
          "background_save": true
        },
        "id": "TWiQWqr_4y6l"
      },
      "source": [
        "\n",
        "from moviepy.editor import *\n",
        "\n",
        "for i in ins(241,251,10):\n",
        "\tl=[]\n",
        "\t#for j in eplist(arcs[i][0],arcs[i][1]):\n",
        "\tfor j in i:\n",
        "\t\tif j<10:\n",
        "\t\t\tl.append(VideoFileClip(\"/content/gintama/gintama_00{}.mp4\".format(str(j))))\n",
        "\t\telif j>10 and j<100:\n",
        "\t\t\tl.append(VideoFileClip(\"/content/gintama/gintama_0{}.mp4\".format(str(j))))\n",
        "\t\telse:\n",
        "\t\t\tl.append(VideoFileClip(\"/content/Gintama/Gintama-S00-E{}.mp4\".format(str(j))))\n",
        "\t#name=\"{} {} {}.mp4\".format(i,arcs[i][0],arcs[i][1])\n",
        "\tname=\"{}_{}.mp4\".format(i[0],i[-1])\n",
        "\ttemp_clip=concatenate_videoclips(l,method='compose')\n",
        "\tfinal_clip=temp_clip.fx(vfx.speedx, final_duration=300)\n",
        "\tprint(name)\n",
        "\tfinal_clip.write_videofile(name,preset='ultrafast',threads=4,logger=None)\n",
        "\tprint('done',name)\n",
        "\t!cp '/content/'$name '/content/drive/My Drive/'\n",
        "     "
      ],
      "execution_count": null,
      "outputs": []
    },
    {
      "cell_type": "code",
      "metadata": {
        "colab": {
          "background_save": true
        },
        "id": "WIufv-TtUCav"
      },
      "source": [
        "from moviepy.editor import *\n",
        "for i in ins(361,368,7):\n",
        "#for i in arcs: \n",
        "  st_ep=i[0]\n",
        "  ed_ep=i[-1]\n",
        "  !kurby download --nfrom $st_ep --nto $ed_ep gintama\n",
        "  l=[]\n",
        "  for j in i:\n",
        "    l.append(VideoFileClip(\"/content/Gintama/Gintama-S00-E{}.mp4\".format(str(j))))\n",
        "  name=\"{}_{}.mp4\".format(i[0],i[-1])\n",
        "  temp_clip=concatenate_videoclips(l,method='compose')\n",
        "  final_clip=temp_clip.fx(vfx.speedx, final_duration=300)\n",
        "  print(name)\n",
        "  final_clip.write_videofile(name,preset='ultrafast',threads=4)\n",
        "  print('done',name)\n",
        "  !cp '/content/'$name '/content/drive/My Drive/'\n",
        "  "
      ],
      "execution_count": null,
      "outputs": []
    },
    {
      "cell_type": "code",
      "metadata": {
        "id": "Q2n_obX0LozR"
      },
      "source": [
        "!cp '/content/201_210.mp4' '/content/drive/My Drive/'"
      ],
      "execution_count": null,
      "outputs": []
    },
    {
      "cell_type": "code",
      "metadata": {
        "id": "RDds8UuJ5B2z"
      },
      "source": [
        "!cp '/content/Gintama_2011-2013Episode_202-265720p90MB/Gintama_2011-2013Episode_202-265720p90MB_60.mp4' '/content/gintama/gintama_261.mp4' "
      ],
      "execution_count": null,
      "outputs": []
    },
    {
      "cell_type": "code",
      "metadata": {
        "id": "iKcKSPx-kQj7"
      },
      "source": [
        "from moviepy.editor import *\n",
        "l=[]\n",
        "#for i in range(91,101):\n",
        "  if i<10:\n",
        "    l.append(VideoFileClip(\"/content/gintama/gintama_00{}.mp4\".format(str(i))))\n",
        "  elif i>10 and i<100:\n",
        "    l.append(VideoFileClip(\"/content/gintama/gintama_0{}.mp4\".format(str(i))))\n",
        "  else:\n",
        "    l.append(VideoFileClip(\"/content/gintama/gintama_{}.mp4\".format(str(i))))\n",
        "temp_clip=concatenate_videoclips(l,method='compose')\n",
        "print(temp_clip.fps)\n",
        "final_clip=temp_clip.fx(vfx.speedx, final_duration=300)\n",
        "final_clip.ipython_display(t=200)\n",
        "print(final_clip.fps)\n",
        "final_clip.write_videofile(\"final.mp4\",preset='ultrafast')"
      ],
      "execution_count": null,
      "outputs": []
    },
    {
      "cell_type": "code",
      "metadata": {
        "colab": {
          "base_uri": "https://localhost:8080/"
        },
        "id": "2kw8ZZxJGI9h",
        "outputId": "681b72d1-4a17-4c1d-f6f9-ca8162e677b2"
      },
      "source": [
        "from moviepy.editor import *\n",
        "#for i in ins(361,368,7):\n",
        "for i in arcs: \n",
        "  st_ep=arcs[i][0]\n",
        "  ed_ep=arcs[i][1]\n",
        "  !kurby download --nfrom $st_ep --nto $ed_ep gintama\n",
        "  l=[]\n",
        "  for j in range(arcs[i][0],arcs[i][1]+1):\n",
        "    l.append(VideoFileClip(\"/content/Gintama/Gintama-S00-E{}.mp4\".format(str(j))))\n",
        "  name=\"{}{}_{}.mp4\".format(i,arcs[i][0],arcs[i][-1])\n",
        "  temp_clip=concatenate_videoclips(l,method='compose')\n",
        "  final_clip=temp_clip.fx(vfx.speedx, final_duration=300)\n",
        "  print(name)\n",
        "  final_clip.write_videofile(name,preset='ultrafast',threads=4)\n",
        "  print('done',name)\n",
        "  !cp '/content/'$name '/content/drive/My Drive/'\n",
        "  "
      ],
      "execution_count": null,
      "outputs": [
      ]
    },
    {
      "cell_type": "code",
      "metadata": {
        "id": "nki4XG015EJl"
      },
      "source": [
        "!pip install git+https://github.com/demotomohiro/remocolab.git\n",
        "import remocolab\n"
      ],
      "execution_count": null,
      "outputs": []
    },
    {
      "cell_type": "code",
      "metadata": {
        "colab": {
          "background_save": true
        },
        "id": "CwFtzK18zfh6"
      },
      "source": [
        "remocolab.setupVNC()"
      ],
      "execution_count": null,
      "outputs": []
    }
  ]
}
