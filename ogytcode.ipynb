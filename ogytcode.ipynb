{
  "nbformat": 4,
  "nbformat_minor": 0,
  "metadata": {
    "colab": {
      "name": "ogytcode",
      "provenance": [],
      "collapsed_sections": [],
      "authorship_tag": "ABX9TyPUwViM1I6UwDlqcTcHIaBZ",
      "include_colab_link": true
    },
    "kernelspec": {
      "display_name": "Python 3",
      "name": "python3"
    }
  },
  "cells": [
    {
      "cell_type": "markdown",
      "metadata": {
        "id": "view-in-github",
        "colab_type": "text"
      },
      "source": [
        "<a href=\"https://colab.research.google.com/github/pj-mathematician/anime-video-maker/blob/main/ogytcode.ipynb\" target=\"_parent\"><img src=\"https://colab.research.google.com/assets/colab-badge.svg\" alt=\"Open In Colab\"/></a>"
      ]
    },
    {
      "cell_type": "code",
      "metadata": {
        "id": "FG5Uwk23FjH6",
        "colab": {
          "base_uri": "https://localhost:8080/"
        },
        "outputId": "61cb125c-c3bd-4faa-bbe7-b5f56c237c41"
      },
      "source": [
        "!sudo apt-get install speedtest-cli\n",
        "!speedtest"
      ],
      "execution_count": null,
      "outputs": [
        {
          "output_type": "stream",
          "text": [
            "Reading package lists... Done\n",
            "Building dependency tree       \n",
            "Reading state information... Done\n",
            "The following additional packages will be installed:\n",
            "  python-pkg-resources python3-pkg-resources\n",
            "Suggested packages:\n",
            "  python-setuptools python3-setuptools\n",
            "The following NEW packages will be installed:\n",
            "  python-pkg-resources python3-pkg-resources speedtest-cli\n",
            "0 upgraded, 3 newly installed, 0 to remove and 31 not upgraded.\n",
            "Need to get 249 kB of archives.\n",
            "After this operation, 1,188 kB of additional disk space will be used.\n",
            "Get:1 http://archive.ubuntu.com/ubuntu bionic/main amd64 python-pkg-resources all 39.0.1-2 [128 kB]\n",
            "Get:2 http://archive.ubuntu.com/ubuntu bionic/main amd64 python3-pkg-resources all 39.0.1-2 [98.8 kB]\n",
            "Get:3 http://archive.ubuntu.com/ubuntu bionic/universe amd64 speedtest-cli all 2.0.0-1 [22.8 kB]\n",
            "Fetched 249 kB in 1s (310 kB/s)\n",
            "debconf: unable to initialize frontend: Dialog\n",
            "debconf: (No usable dialog-like program is installed, so the dialog based frontend cannot be used. at /usr/share/perl5/Debconf/FrontEnd/Dialog.pm line 76, <> line 3.)\n",
            "debconf: falling back to frontend: Readline\n",
            "debconf: unable to initialize frontend: Readline\n",
            "debconf: (This frontend requires a controlling tty.)\n",
            "debconf: falling back to frontend: Teletype\n",
            "dpkg-preconfigure: unable to re-open stdin: \n",
            "Selecting previously unselected package python-pkg-resources.\n",
            "(Reading database ... 160983 files and directories currently installed.)\n",
            "Preparing to unpack .../python-pkg-resources_39.0.1-2_all.deb ...\n",
            "Unpacking python-pkg-resources (39.0.1-2) ...\n",
            "Selecting previously unselected package python3-pkg-resources.\n",
            "Preparing to unpack .../python3-pkg-resources_39.0.1-2_all.deb ...\n",
            "Unpacking python3-pkg-resources (39.0.1-2) ...\n",
            "Selecting previously unselected package speedtest-cli.\n",
            "Preparing to unpack .../speedtest-cli_2.0.0-1_all.deb ...\n",
            "Unpacking speedtest-cli (2.0.0-1) ...\n",
            "Setting up python3-pkg-resources (39.0.1-2) ...\n",
            "Setting up python-pkg-resources (39.0.1-2) ...\n",
            "Setting up speedtest-cli (2.0.0-1) ...\n",
            "Processing triggers for man-db (2.8.3-2ubuntu0.1) ...\n"
          ],
          "name": "stdout"
        }
      ]
    },
    {
      "cell_type": "code",
      "metadata": {
        "id": "4zNJ3I87G3mn",
        "colab": {
          "base_uri": "https://localhost:8080/"
        },
        "outputId": "457fd62b-fd7d-4ef8-fb3f-15027365dbc2"
      },
      "source": [
        "!sudo apt update && sudo apt upgrade"
      ],
      "execution_count": 2,
      "outputs": [
        {
          "output_type": "stream",
          "text": [
            "\u001b[33m\r0% [Working]\u001b[0m\r            \rHit:1 http://security.ubuntu.com/ubuntu bionic-security InRelease\n",
            "\u001b[33m\r0% [Waiting for headers] [Connected to cloud.r-project.org (13.227.223.63)] [Wa\u001b[0m\r                                                                               \rHit:2 http://archive.ubuntu.com/ubuntu bionic InRelease\n",
            "\r                                                                               \rHit:3 http://ppa.launchpad.net/c2d4u.team/c2d4u4.0+/ubuntu bionic InRelease\n",
            "\u001b[33m\r0% [Waiting for headers] [Connected to cloud.r-project.org (13.227.223.63)] [Co\u001b[0m\u001b[33m\r0% [1 InRelease gpgv 88.7 kB] [Waiting for headers] [Connected to cloud.r-proje\u001b[0m\r                                                                               \rHit:4 http://archive.ubuntu.com/ubuntu bionic-updates InRelease\n",
            "\u001b[33m\r0% [1 InRelease gpgv 88.7 kB] [Waiting for headers] [Connected to cloud.r-proje\u001b[0m\r                                                                               \rHit:5 https://cloud.r-project.org/bin/linux/ubuntu bionic-cran40/ InRelease\n",
            "\u001b[33m\r0% [1 InRelease gpgv 88.7 kB] [Waiting for headers] [Waiting for headers] [Wait\u001b[0m\r                                                                               \rHit:6 http://archive.ubuntu.com/ubuntu bionic-backports InRelease\n",
            "\u001b[33m\r                                                                               \r0% [1 InRelease gpgv 88.7 kB] [Waiting for headers] [Waiting for headers]\u001b[0m\r                                                                         \rHit:7 http://ppa.launchpad.net/cran/libgit2/ubuntu bionic InRelease\n",
            "\u001b[33m\r                                                                         \r0% [1 InRelease gpgv 88.7 kB] [Waiting for headers]\u001b[0m\r                                                   \rHit:8 http://ppa.launchpad.net/deadsnakes/ppa/ubuntu bionic InRelease\n",
            "Hit:9 http://ppa.launchpad.net/graphics-drivers/ppa/ubuntu bionic InRelease\n",
            "Ign:10 https://developer.download.nvidia.com/compute/cuda/repos/ubuntu1804/x86_64  InRelease\n",
            "Ign:11 https://developer.download.nvidia.com/compute/machine-learning/repos/ubuntu1804/x86_64  InRelease\n",
            "Hit:12 https://developer.download.nvidia.com/compute/cuda/repos/ubuntu1804/x86_64  Release\n",
            "Hit:13 https://developer.download.nvidia.com/compute/machine-learning/repos/ubuntu1804/x86_64  Release\n",
            "Reading package lists... Done\n",
            "Building dependency tree       \n",
            "Reading state information... Done\n",
            "4 packages can be upgraded. Run 'apt list --upgradable' to see them.\n",
            "Reading package lists... Done\n",
            "Building dependency tree       \n",
            "Reading state information... Done\n",
            "Calculating upgrade... Done\n",
            "The following packages were automatically installed and are no longer required:\n",
            "  linux-headers-4.15.0-140 linux-headers-4.15.0-140-generic r-cran-covr\n",
            "  r-cran-crosstalk r-cran-dt r-cran-htmlwidgets r-cran-later r-cran-lazyeval\n",
            "  r-cran-promises r-cran-rex\n",
            "Use 'sudo apt autoremove' to remove them.\n",
            "The following packages have been kept back:\n",
            "  libcudnn8 libcudnn8-dev libnccl-dev libnccl2\n",
            "0 upgraded, 0 newly installed, 0 to remove and 4 not upgraded.\n"
          ],
          "name": "stdout"
        }
      ]
    },
    {
      "cell_type": "code",
      "metadata": {
        "id": "li0AlMfCfJNg"
      },
      "source": [
        "%%capture\n",
        "!apt install aria2\n",
        "!pip3 install anime-downloader\n",
        "!pip install --upgrade moviepy"
      ],
      "execution_count": 3,
      "outputs": []
    },
    {
      "cell_type": "code",
      "metadata": {
        "id": "DJVKmfcbaYHw",
        "colab": {
          "base_uri": "https://localhost:8080/"
        },
        "outputId": "f045b47e-703e-439c-a564-87b07f0c75af"
      },
      "source": [
        "def ins(starting,ending,step):\n",
        "\tl=[]\n",
        "\tfor i in range((ending-starting)//step):\n",
        "\t\tm=[]\n",
        "\t\tfor j in range(starting+(i*step),starting+(i*step)+step):\n",
        "\t\t\tm.append(j)\n",
        "\t\tl.append(m)\n",
        "\t#print(l)\n",
        "\treturn l\n",
        "def eplist(start,end):\n",
        "\tl=[]\n",
        "\tfor i in range(start,end+1):\n",
        "\t\tl.append(i)\n",
        "\tprint(l)\n",
        "\treturn l\n",
        "ins(201,211,10)"
      ],
      "execution_count": 5,
      "outputs": [
        {
          "output_type": "execute_result",
          "data": {
            "text/plain": [
              "[[201, 202, 203, 204, 205, 206, 207, 208, 209, 210]]"
            ]
          },
          "metadata": {
            "tags": []
          },
          "execution_count": 5
        }
      ]
    },
    {
      "cell_type": "code",
      "metadata": {
        "id": "V7O0AH6azBUV"
      },
      "source": [
        "arcs={'umibozu':(40,42),'benizakura':(58,61),'yagyu':(76,81),'mitsuba':(86,87),'shinsengumi':(101,105),'ghostryokan':(131,134),'yoshiwara':(139,146),'otsu':(157,163),'tamaq':(167,170),'red-spider':(177,181),'diviner':(195,199),'santa':(200,201)}"
      ],
      "execution_count": null,
      "outputs": []
    },
    {
      "cell_type": "code",
      "metadata": {
        "id": "ziCwban78bJh"
      },
      "source": [
        "!anime dl --help"
      ],
      "execution_count": null,
      "outputs": []
    },
    {
      "cell_type": "code",
      "metadata": {
        "id": "2Uq-sAld6lvQ"
      },
      "source": [
        "%%capture\n",
        "for i in arcs:\n",
        "  ep1=arcs[i][0]\n",
        "  ep2=arcs[i][1]\n",
        "  !anime dl 'gintama' --episodes '$ep1:$ep2' -c 1"
      ],
      "execution_count": null,
      "outputs": []
    },
    {
      "cell_type": "code",
      "metadata": {
        "id": "Gcb4F1W1cuMT",
        "colab": {
          "base_uri": "https://localhost:8080/"
        },
        "outputId": "2c79074a-0378-4bdb-ab86-d852b2d40a16"
      },
      "source": [
        "!anime dl 'gintama' -c 1 --episodes 201:211"
      ],
      "execution_count": 6,
      "outputs": [
        {
          "output_type": "stream",
          "text": [
            "\u001b[32manime\u001b[0m: anime-downloader 5.0.9\n",
            "+--------+----------------------------------+--------+\n",
            "|      5 | Rental Magica                    |        |\n",
            "|      4 | Hinamatsuri                      |        |\n",
            "|      3 | Boku dake ga Inai Machi          |        |\n",
            "|      2 | Gintama: Jump Festa 2015 Special |        |\n",
            "|      1 | Gintama                          |        |\n",
            "|--------+----------------------------------+--------|\n",
            "|   SlNo | Title                            | Meta   |\n",
            "+--------+----------------------------------+--------+\n",
            "\u001b[32manime\u001b[0m: Selected Gintama\n",
            "\u001b[32manime\u001b[0m: Extracting episode info from page\n",
            "\u001b[32manime\u001b[0m: Found anime: gintama\n",
            "INFO:anime_downloader.commands.dl:Found anime: gintama\n",
            "\u001b[32manime\u001b[0m: Downloading to /content\n",
            "INFO:anime_downloader.commands.dl:Downloading to /content\n",
            "\u001b[0m\n",
            "Download Results:\n",
            "gid   |stat|avg speed  |path/URI\n",
            "======+====+===========+=======================================================\n",
            "ed1e1c|\u001b[1;32mOK\u001b[0m  |    65MiB/s|/content/gintama/gintama_201.mp4\n",
            "\n",
            "Status Legend:\n",
            "(OK):download completed.\n",
            "\u001b[0m\n",
            "Download Results:\n",
            "gid   |stat|avg speed  |path/URI\n",
            "======+====+===========+=======================================================\n",
            "8f702a|\u001b[1;32mOK\u001b[0m  |    38MiB/s|/content/gintama/gintama_202.mp4\n",
            "\n",
            "Status Legend:\n",
            "(OK):download completed.\n",
            "\u001b[0m\n",
            "Download Results:\n",
            "gid   |stat|avg speed  |path/URI\n",
            "======+====+===========+=======================================================\n",
            "7c05ae|\u001b[1;32mOK\u001b[0m  |    49MiB/s|/content/gintama/gintama_203.mp4\n",
            "\n",
            "Status Legend:\n",
            "(OK):download completed.\n",
            "\u001b[0m\n",
            "Download Results:\n",
            "gid   |stat|avg speed  |path/URI\n",
            "======+====+===========+=======================================================\n",
            "e49a77|\u001b[1;32mOK\u001b[0m  |    44MiB/s|/content/gintama/gintama_204.mp4\n",
            "\n",
            "Status Legend:\n",
            "(OK):download completed.\n",
            "\u001b[0m\n",
            "Download Results:\n",
            "gid   |stat|avg speed  |path/URI\n",
            "======+====+===========+=======================================================\n",
            "0dbc85|\u001b[1;32mOK\u001b[0m  |    58MiB/s|/content/gintama/gintama_205.mp4\n",
            "\n",
            "Status Legend:\n",
            "(OK):download completed.\n",
            "\u001b[0m\n",
            "Download Results:\n",
            "gid   |stat|avg speed  |path/URI\n",
            "======+====+===========+=======================================================\n",
            "509578|\u001b[1;32mOK\u001b[0m  |    38MiB/s|/content/gintama/gintama_206.mp4\n",
            "\n",
            "Status Legend:\n",
            "(OK):download completed.\n",
            "\u001b[0m\n",
            "Download Results:\n",
            "gid   |stat|avg speed  |path/URI\n",
            "======+====+===========+=======================================================\n",
            "ff4155|\u001b[1;32mOK\u001b[0m  |    30MiB/s|/content/gintama/gintama_207.mp4\n",
            "\n",
            "Status Legend:\n",
            "(OK):download completed.\n",
            "\u001b[0m\n",
            "Download Results:\n",
            "gid   |stat|avg speed  |path/URI\n",
            "======+====+===========+=======================================================\n",
            "69007e|\u001b[1;32mOK\u001b[0m  |    54MiB/s|/content/gintama/gintama_208.mp4\n",
            "\n",
            "Status Legend:\n",
            "(OK):download completed.\n",
            "\u001b[0m\n",
            "Download Results:\n",
            "gid   |stat|avg speed  |path/URI\n",
            "======+====+===========+=======================================================\n",
            "5741c5|\u001b[1;32mOK\u001b[0m  |    46MiB/s|/content/gintama/gintama_209.mp4\n",
            "\n",
            "Status Legend:\n",
            "(OK):download completed.\n",
            "\u001b[0m\n",
            "Download Results:\n",
            "gid   |stat|avg speed  |path/URI\n",
            "======+====+===========+=======================================================\n",
            "47bc66|\u001b[1;32mOK\u001b[0m  |    59MiB/s|/content/gintama/gintama_210.mp4\n",
            "\n",
            "Status Legend:\n",
            "(OK):download completed.\n",
            "\u001b[0m\n",
            "Download Results:\n",
            "gid   |stat|avg speed  |path/URI\n",
            "======+====+===========+=======================================================\n",
            "7b6cd8|\u001b[1;32mOK\u001b[0m  |   176MiB/s|/content/gintama/gintama_211.mp4\n",
            "\n",
            "Status Legend:\n",
            "(OK):download completed.\n"
          ],
          "name": "stdout"
        }
      ]
    },
    {
      "cell_type": "code",
      "metadata": {
        "colab": {
          "base_uri": "https://localhost:8080/"
        },
        "id": "BFpXN7yZuguf",
        "outputId": "86c7151c-d949-438a-e80d-e36b586987e7"
      },
      "source": [
        "!anime dl 'gintama' -p animeout -c 7"
      ],
      "execution_count": null,
      "outputs": [
        {
          "output_type": "stream",
          "text": [
            "\u001b[32manime\u001b[0m: anime-downloader 5.0.7\n",
            "+--------+-----------------------------------------------------------------------+--------+\n",
            "|      9 | Bakumatsu Gijinden Roman (Complete Batch) (Episode 1-12) (720p|100MB) |        |\n",
            "|      8 | Project Lists                                                         |        |\n",
            "|      7 | Gintama’ (2011-2013)(Episode 202-265)(720p|90MB)                      |        |\n",
            "|      6 | Gintama: Kanketsu-hen – Yorozuya yo Eien Nare (Movie) (720p|650MB|BD) |        |\n",
            "|      5 | Gintama° (2015) (Episode 266 – 316)                                   |        |\n",
            "|      4 | Gintama°: Aizome Kaori-hen (OVA)                                      |        |\n",
            "|      3 | Gintama (2017) (Episode 367)                                          |        |\n",
            "|      2 | Gintama (Season 1-4)(Episode 1-201)(2006)                             |        |\n",
            "|      1 | Gintama: The Semi-Final (Complete)(720p-150MB)                        |        |\n",
            "|--------+-----------------------------------------------------------------------+--------|\n",
            "|   SlNo | Title                                                                 | Meta   |\n",
            "+--------+-----------------------------------------------------------------------+--------+\n",
            "\u001b[32manime\u001b[0m: \u001b[31mOnly maximum of 9 search results are allowed. Please input a number less than 10\u001b[0m\n",
            "\u001b[32manime\u001b[0m: Selected Bakumatsu Gijinden Roman (Complete Batch) (Episode 1-12) (720p|100MB)\n",
            "\u001b[32manime\u001b[0m: Extracting episode info from page\n",
            "\u001b[32manime\u001b[0m: Found anime: Bakumatsu Gijinden Roman (Complete Batch) (Episode 1-12) (720p|100MB)\n",
            "\u001b[30m\u001b[41mERROR:\u001b[0m \u001b[31mNo episodes found within index.\u001b[0m\n"
          ],
          "name": "stdout"
        }
      ]
    },
    {
      "cell_type": "code",
      "metadata": {
        "id": "En95zCgIfo_F"
      },
      "source": [
        "%%capture\n",
        "!echo 'start'\n",
        "!anime dl 'gintama' --episodes 141:200 -c 1\n",
        "!echo 'done'"
      ],
      "execution_count": null,
      "outputs": []
    },
    {
      "cell_type": "code",
      "metadata": {
        "id": "TWiQWqr_4y6l",
        "colab": {
          "base_uri": "https://localhost:8080/"
        },
        "outputId": "2c7c4dae-4cae-4336-f74b-22ab24f96ca3"
      },
      "source": [
        "from moviepy.editor import *\n",
        "\n",
        "for i in ins(201,231,10):\n",
        "\tl=[]\n",
        "\t#for j in eplist(arcs[i][0],arcs[i][1]):\n",
        "\tfor j in i:\n",
        "\t\tif j<10:\n",
        "\t\t\tl.append(VideoFileClip(\"/content/gintama/gintama_00{}.mp4\".format(str(j))))\n",
        "\t\telif j>10 and j<100:\n",
        "\t\t\tl.append(VideoFileClip(\"/content/gintama/gintama_0{}.mp4\".format(str(j))))\n",
        "\t\telse:\n",
        "\t\t\tl.append(VideoFileClip(\"/content/gintama/gintama_{}.mp4\".format(str(j))))\n",
        "\t#name=\"{} {} {}.mp4\".format(i,arcs[i][0],arcs[i][1])\n",
        "\tname=\"{}_{}.mp4\".format(i[0],i[-1])\n",
        "\ttemp_clip=concatenate_videoclips(l,method='compose')\n",
        "\tfinal_clip=temp_clip.fx(vfx.speedx, final_duration=300)\n",
        "\tprint(name)\n",
        "\tfinal_clip.write_videofile(name,preset='ultrafast',threads=4)\n",
        "\tprint('done',name)\n",
        "\t#!cp '/content/'$name '/content/drive/My Drive/'\n",
        "     "
      ],
      "execution_count": null,
      "outputs": [
        {
          "output_type": "stream",
          "text": [
            "chunk:   0%|          | 10/6616 [00:00<01:06, 99.98it/s, now=None]"
          ],
          "name": "stderr"
        },
        {
          "output_type": "stream",
          "text": [
            "201_210.mp4\n",
            "Moviepy - Building video 201_210.mp4.\n",
            "MoviePy - Writing audio in 201_210TEMP_MPY_wvf_snd.mp3\n"
          ],
          "name": "stdout"
        },
        {
          "output_type": "stream",
          "text": [
            "t:   0%|          | 0/7193 [00:00<?, ?it/s, now=None]"
          ],
          "name": "stderr"
        },
        {
          "output_type": "stream",
          "text": [
            "MoviePy - Done.\n",
            "Moviepy - Writing video 201_210.mp4\n",
            "\n"
          ],
          "name": "stdout"
        },
        {
          "output_type": "stream",
          "text": [
            "t:  26%|██▋       | 1893/7193 [19:27<58:47,  1.50it/s, now=None]"
          ],
          "name": "stderr"
        }
      ]
    },
    {
      "cell_type": "code",
      "metadata": {
        "id": "BRMoAJpkJNf2"
      },
      "source": [
        "from google.colab import drive\n",
        "drive.mount('/content/drive')"
      ],
      "execution_count": null,
      "outputs": []
    },
    {
      "cell_type": "code",
      "metadata": {
        "id": "SZEnb5Xxs_LF"
      },
      "source": [
        "!pip install --upgrade moviepy"
      ],
      "execution_count": null,
      "outputs": []
    },
    {
      "cell_type": "code",
      "metadata": {
        "id": "Q2n_obX0LozR"
      },
      "source": [
        "!cp '/content/Gintama Ep 131-140 in 5 Minutes.mp4' '/content/drive/My Drive/'"
      ],
      "execution_count": null,
      "outputs": []
    },
    {
      "cell_type": "code",
      "metadata": {
        "id": "iKcKSPx-kQj7"
      },
      "source": [
        "from moviepy.editor import *\n",
        "l=[]\n",
        "#for i in range(91,101):\n",
        "  if i<10:\n",
        "    l.append(VideoFileClip(\"/content/gintama/gintama_00{}.mp4\".format(str(i))))\n",
        "  elif i>10 and i<100:\n",
        "    l.append(VideoFileClip(\"/content/gintama/gintama_0{}.mp4\".format(str(i))))\n",
        "  else:\n",
        "    l.append(VideoFileClip(\"/content/gintama/gintama_{}.mp4\".format(str(i))))\n",
        "temp_clip=concatenate_videoclips(l,method='compose')\n",
        "print(temp_clip.fps)\n",
        "final_clip=temp_clip.fx(vfx.speedx, final_duration=300)\n",
        "final_clip.ipython_display(t=200)\n",
        "print(final_clip.fps)\n",
        "final_clip.write_videofile(\"final.mp4\",preset='ultrafast')"
      ],
      "execution_count": null,
      "outputs": []
    },
    {
      "cell_type": "code",
      "metadata": {
        "id": "nki4XG015EJl"
      },
      "source": [
        "!pip install git+https://github.com/demotomohiro/remocolab.git\n",
        "import remocolab\n",
        "remocolab.setupVNC()"
      ],
      "execution_count": null,
      "outputs": []
    }
  ]
}